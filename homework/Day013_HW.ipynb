import requests
from bs4 import BeautifulSoup

url = 'https://www.ptt.cc/bbs/NBA/index.html'
r = requests.get(url)
r.encoding = "utf-8"

soup = BeautifulSoup(r.text, "html5lib")

#1
for d in soup.find_all(class_="title"):
   # print(d.text.replace('\t', '').replace('\n', ''))
    try:
        r = BeautifulSoup(requests.get('https://www.ptt.cc'+d.find('a')['href']).text, "html5lib")
        for title in r.find_all(class_="article-metaline"):
            print(title.find(class_='article-meta-tag').text + title.find(class_="article-meta-value").text)
        print("\n")
        break
    except:
        continue

#2
for d in soup.find_all(class_="title"):
       # print(d.text.replace('\t', '').replace('\n', ''))
    try:
        r = BeautifulSoup(requests.get('https://www.ptt.cc'+d.find('a')['href']).text, "html5lib")
        for title in r.find_all(class_="article-metaline"):
            print(title.find(class_='article-meta-tag').text + title.find(class_="article-meta-value").text)
        print("\n")
    except:
        continue

#3 美妝版
url = 'https://www.ptt.cc/bbs/MakeUp/index.html'
r = requests.get(url)
r.encoding = "utf-8"

soup = BeautifulSoup(r.text, "html5lib")

for d in soup.find_all(class_="title"):
    try:
        r = BeautifulSoup(requests.get('https://www.ptt.cc'+d.find('a')['href']).text, "html5lib")
        for title in r.find_all(class_="article-metaline"):
            print(title.find(class_='article-meta-tag').text + title.find(class_="article-meta-value").text)
        print("\n")
    except:
        continue