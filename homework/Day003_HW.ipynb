#1.(問答)比較一下範例檔案中的「File I/O」與「xmltodict」讀出來的內容有什麼差異
#   File I/O 讀出的檔案已xml形式表達,　xmltodict 是以dictionary的形式表達

#2.(實作)
# 根據範例檔案的結果：

# 請問高雄市有多少地區有溫度資料？
# 請取出每一個地區所記錄的第一個時間點跟溫度
# 請取出第一個地區所記錄的每一個時間點跟溫度

fh = open("./Data/64_72hr_CH.xml", mode="r", encoding="utf-8")
xml = fh.read()
fh.close()
#print(xml)

import xmltodict
d = dict(xmltodict.parse(xml))
#print(d)

names =  d['cwbopendata']['dataset']['locations']['location']
n = 0
for name in names:
    print(name["locationName"])
    n +=1
print("地區個數: ", n)

#請取出每一個地區所記錄的第一個時間點跟溫度
locations =  d['cwbopendata']['dataset']['locations']['location']
for location in locations:
    elements = location["weatherElement"][0]["time"][1]
    print(location["locationName"], elements["dataTime"], elements["elementValue"]["value"])

#請取出每一個地區所記錄的每一個時間點跟溫度
names =  d['cwbopendata']['dataset']['locations']['location']
for name in names:
    weathers = name["weatherElement"][0]["time"]
    #print(name["locationName"], weathers)
    for weather in weathers:
        data = weather["dataTime"]
        value = weather["elementValue"]
        print(name["locationName"], data, value["value"])
