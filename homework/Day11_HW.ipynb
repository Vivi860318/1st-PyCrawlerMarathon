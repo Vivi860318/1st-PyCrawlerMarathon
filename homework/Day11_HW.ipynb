import re
def RegexMatchingTest(regex, input_text):
    pattern = re.compile(regex)
    result = re.search(pattern, input_text)

    if result:
        print("Matched %s" %(result.group()))
        if result.lastindex is not None:
            for i in range(0, result.lastindex+1):
                print("  group(%d): %s" %(i, result.group(i)))
    else:
        print("Not matched.")

#用正規表達是過濾IP address
test_string = "Google IP address is 216.58.200.227"
# 過濾IP address的regex pattern
regex = "(\d{1, 3}).(\d{1, 3}).(\d{1, 3}).(\d{1, 3})"
RegexMatchingTest(regex, test_string)

test_string1 = "Test IP 216.55.200.227"
regex = "[0-250]{3}\.[0-250]{3}\.[0-250]{3}.\[0-250]{3}\."
RegexMatchingTest(regex, test_string1)
test_string2 = "Test IP 999.888.777.666"
RegexMatchingTest(regex, test_string2)

html_a_tag = "<a href=https://movies.yahoo.com.tw/movietime_result.html/id=9467> 時刻表 </a>"
regex = "https://[\u0021-\u007a]+"
RegexMatchingTest(regex, html_a_tag)