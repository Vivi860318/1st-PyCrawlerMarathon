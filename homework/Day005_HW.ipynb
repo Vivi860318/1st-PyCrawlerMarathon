import requests
r = requests.get("https://www.dcard.tw/_api/forums/pet/posts?popular=true")
response = r.text

# 1. 這個 API 一次會回傳幾筆資料？每一筆資料包含哪些欄位？
import json
data = json.loads(response)
n =0
for d in data:
    n+=1
    print(d["title"])
print("回傳幾筆資料? ", n)
print("每一筆資料包含哪些欄位？ ", "title")

# 2. 取出每一筆資料的「標題」、「貼文時間」、「留言人數」、「按讚人數」
import json
data = json.loads(response)
for d in data:
    print("標題", d["title"])
    print("貼文時間", d["createdAt"])
    print("留言人數", d["commentCount"])
    print("按讚人數", d["likeCount"])

# 3. 計算熱門/非熱門文章的「平均留言人數」與「平均按讚人數」
#熱門文章
import json
data = json.loads(response)
comsum = 0
likesum = 0
n = 0
for d in data:
    com = d["commentCount"]
    like = d["likeCount"]
    comsum = comsum + int(com)
    likesum = likesum + int(like)
    n+=1
comave = comsum/n
likeave = likesum/n
print("平均熱門文章留言人數",comave)
print("平均熱門文章按讚人數", likeave)

#非熱門文章(最新文章)
import requests
r = requests.get("https://www.dcard.tw/_api/forums/pet/posts?popular=false")
response = r.text

import json
data = json.loads(response)
comsum = 0
likesum = 0
n = 0
for d in data:
    com = d["commentCount"]
    like = d["likeCount"]
    comsum = comsum + int(com)
    likesum = likesum + int(like)
    n+=1
comave = comsum/n
likeave = likesum/n
print("平均最新文章留言人數",comave)
print("平均最新文章按讚人數", likeave)
