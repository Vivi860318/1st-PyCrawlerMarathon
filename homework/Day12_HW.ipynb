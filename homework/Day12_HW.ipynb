import requests
from bs4 import BeautifulSoup

url = "https://www.ettoday.net/news/news-list.htm"
r = requests.get(url)
r.encoding = "utf-8"
soup = BeautifulSoup(r.text, "html5lib")

#1
for d in soup.find(class_="part_list_2").find_all("h3"):
    print(d.find(class_="date").text, d.find_all("a")[-1].text)
#2
for d in soup.find(class_="part_list_2").find_all("h3"):
    print(d.find(class_="tag").text, d.find_all("a")[-1].text)
#3
from collections import Counter
tag = []
for d in soup.find(class_="part_list_2").find_all("h3"):
    tag.append(d.find(class_="tag").text)
print(Counter(tag))
print(Counter(tag).most_common(1))
