import requests
from bs4 import BeautifulSoup
from datetime import datetime
import pandas as pd
import matplotlib.pyplot as plt

# 進入台灣銀行牌告匯率網頁，查看當日匯率資料
url = "https://rate.bot.com.tw/xrt?Lang=zh-TW"
resp = requests.get(url)
resp.encoding = "utf-8"

html = BeautifulSoup(resp.text, "html5lib")
rate_table = html.find(name = "table", attrs = {"title":"牌告匯率"}).find(name="tbody").find_all(name="tr")

# 查詢美金(也就是匯率表的第一個元素)對台幣的匯率
currency = rate_table[0].find(name="div", attrs={"class":"visible-phone print_hide"})
print(currency.text.replace(" ", ""))#去掉空白

buy_rate = rate_table[0].find(name="td", attrs = {"class":"rate-content-cash text-right print_hide"})
sell_rate = rate_table[0].find(name = "td", attrs = {"class":"rate-content-cash text-right print_hide"})
print("即時現今買入: %s, 即時現金賣出: %s" %(buy_rate.text, sell_rate.text))

rate_tables = html.find(name="table", attrs={"title":"牌告匯率"}).find(name="tbody")
# print(rate_tables)
tr = rate_tables.find_all(name="tr")
for a in tr:
    currency = a.find(name="div", attrs={"class":"visible-phone print_hide"})
    print(currency.text.replace(" ", ""))
        
    buy_rate = a.find(name = "td", attrs = {"class":"rate-content-cash text-right print_hide"})
    sell_rate = a.find(name = "td", attrs = {"class": "rate-content-cash text-right print_hide"})
    print("即時現今買入: %s, 即時現金賣出: %s" %(buy_rate.text, sell_rate.text))

#範例二 爬取一個月的美金對台幣歷史匯率資料，並畫出趨勢圖
# 先到牌告匯率首頁，爬取所有貨幣的種類

url = "https://rate.bot.com.tw/xrt?Lang=zh-TW"
r = requests.get(url)
r.encoding="utf-8"
html = BeautifulSoup(r.text, "html5lib")
rate_table = html.find(name = "table", attrs = {"title":"牌告匯率"}).find(name="tbody").find_all(name="tr")
# 擷取匯率表格，把美金(也就是匯率表的第一個元素)擷取出來，查詢其歷史匯率
currency = rate_table[0].find(name = "div", attrs = {"class":"visible-phone print_hide"})
print(currency.text.replace(" ", ""))

# 針對美金，找到其「歷史匯率」的首頁 
history_link = rate_table[0].find(name = "td", attrs={"data-table":"歷史匯率"})
history_rate_link = "https://rate.bot.com.tw"+ history_link.a["href"]

#
# 到貨幣歷史匯率網頁，選則該貨幣的「歷史區間」，送出查詢後，觀察其網址變化情形，再試著抓取其歷史匯率資料
#
# 用「quote/年-月」去取代網址內容，就可以連到該貨幣的歷史資料

quote_history_url = history_rate_link.replace("history","quote/2019-11")
r = requests.get(quote_history_url)
r.encoding = "utf-8"
history = BeautifulSoup(r.text, "html5lib")
history_table = history.find(name='table', attrs={'title':'歷史本行營業時間牌告匯率'}).find(name='tbody').find_all(name='tr')
#
# 擷取到歷史匯率資料後，把資料彙整起來並畫出趨勢圖
#
date_history = list()
history_buy = list()
history_sell = list()

for history_rate in history_table:
    #擷取日期資料
    date_string = history_rate.a.text
    date = datetime.strptime(date_string, "%Y/%M/%d").strftime("%Y/%M/%d") #轉換日期格式
    date_history.append(date)
    # print(history_rate)
    history_ex_rate = history_rate.find_all(name = "td", attrs = {"class":"rate-content-sight text-right print_table-cell"})
    # print(history_ex_rate)
    history_buy.append(float(history_ex_rate[0].text))
    history_sell.append(float(history_ex_rate[1].text))

#將匯率資料建成dataframe形式
HistoryExchangeRate = pd.DataFrame({"date": date_history, "buy_rate": history_buy, "sell_rate": history_sell})

HistoryExchangeRate = HistoryExchangeRate.set_index("date") # 指定日期欄位為datafram的index
HistoryExchangeRate = HistoryExchangeRate.sort_index(ascending = True)

# 畫出歷史匯率軌跡圖
plt.figure(figsize = (10, 8))
HistoryExchangeRate[["buy_rate", "sell_rate"]].plot() # x=['date'], y=[['buy_rate','sell_rate']] 
plt.legend(loc = "upper left")
plt.show()



########homework################

url = "https://rate.bot.com.tw/xrt?Lang=zh-TW"
r = requests.get(url)
r.encoding="utf-8"
html = BeautifulSoup(r.text, "html5lib")
rate_table = html.find(name = "table", attrs = {"title":"牌告匯率"}).find(name="tbody").find_all(name="tr")
# print(rate_table)
for rate_tables in rate_table:
    currency = rate_tables.find(name = "div", attrs = {"class":"visible-phone print_hide"})
    print(currency.text.replace(" ", ""))

    #每種貨幣 
    history_link = rate_tables.find(name = "td", attrs={"data-table":"歷史匯率"})
    history_rate_link = "https://rate.bot.com.tw"+ history_link.a["href"]

    #
    # 到貨幣歷史匯率網頁，選則該貨幣的「歷史區間」，送出查詢後，觀察其網址變化情形，再試著抓取其歷史匯率資料
    #
    # 用「quote/年-月」去取代網址內容，就可以連到該貨幣的歷史資料

    quote_history_url = history_rate_link.replace("history","quote/2019-11")
    r = requests.get(quote_history_url)
    r.encoding = "utf-8"
    history = BeautifulSoup(r.text, "html5lib")
    history_table = history.find(name='table', attrs={'title':'歷史本行營業時間牌告匯率'}).find(name='tbody').find_all(name='tr')
    #
    # 擷取到歷史匯率資料後，把資料彙整起來並畫出趨勢圖
    #
    date_history = list()
    history_buy = list()
    history_sell = list()

    for history_rate in history_table:
        #擷取日期資料
        date_string = history_rate.a.text
        date = datetime.strptime(date_string, "%Y/%M/%d").strftime("%Y/%M/%d") #轉換日期格式
        date_history.append(date)
        # print(history_rate)
        history_ex_rate = history_rate.find_all(name = "td", attrs = {"class":"rate-content-sight text-right print_table-cell"})
        # print(history_ex_rate)
        history_buy.append(float(history_ex_rate[0].text))
        history_sell.append(float(history_ex_rate[1].text))

    #將匯率資料建成dataframe形式
    HistoryExchangeRate = pd.DataFrame({"date": date_history, "buy_rate": history_buy, "sell_rate": history_sell})

    HistoryExchangeRate = HistoryExchangeRate.set_index("date") # 指定日期欄位為datafram的index
    HistoryExchangeRate = HistoryExchangeRate.sort_index(ascending = True)

    # 畫出歷史匯率軌跡圖
    plt.figure(figsize = (10, 8))
    HistoryExchangeRate[["buy_rate", "sell_rate"]].plot() # x=['date'], y=[['buy_rate','sell_rate']] 
    plt.legend(loc = "upper left")
    plt.show()