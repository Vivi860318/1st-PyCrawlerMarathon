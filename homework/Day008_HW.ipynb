import requests
from bs4 import BeautifulSoup

#取得dcard html
url = "https://www.dcard.tw/f"
r = requests.get(url)
r.encoding = "utf-8"
response = r.text
print(r.text[0:3000])

#request 取回之後之資料型態
print("Request 取回之後該怎麼取出資料，資料型態是什麼？ =>")
print(type(response)) #str
print("資料型態為string")

# #使用json將str轉為dic
# import json
# response = json.loads(response)
# print(type(response))

#beautifulsoup
print('為什麼要使用 BeatifulSoup 處理？處理後的型態是什麼？ => ')
soup = BeautifulSoup(response, "html5lib")
print(type(soup)) #bs4
print("用BeautifulSoup才能解析網頁, 型態為bs4")


#取得知乎 html
url = "https://www.zhihu.com/explore"
r = requests.get(url)
r.encoding = "utf-8"
print(r.text[0:600])

#觀察一下知乎回來的資料好像有點怪怪的，該怎麼解決？
#設立header
import requests
url = "https://www.zhihu.com/explore"
headers = {
"user-agent": "Mozilla/5.0 (Windows NT 10.0; Win64; x64) AppleWebKit/537.36 (KHTML, like Gecko) Chrome/78.0.3904.108 Safari/537.36"
}
r = requests.get(url, headers=headers)
r.encoding = "utf-8"
print(r.text[0:600])