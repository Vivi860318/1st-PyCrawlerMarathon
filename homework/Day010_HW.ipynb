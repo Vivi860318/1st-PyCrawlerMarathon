
import requests
from bs4 import BeautifulSoup
#requests
url = "https://www.dcard.tw/f"
r = requests.get(url)
r.encoding="utf-8"
response = r.text
#print(r.text[0:3000])
print("requests的資料型態", type(response))

#beautifulsoup
soup = BeautifulSoup(response, "html5lib")
print("BeautifulSoup的資料型態", type(soup))

#Grab
from grab import Grab
g=Grab()
resp = g.go("https://www.dcard.tw/f")
resp.body
#print(resp.body)
print("Grab的資料型態", type(resp.body))

#PyQuery
from pyquery import PyQuery as pq
doc = pq(resp.body)
print("PyQuery的資料型態", type(doc))

# requests的資料型態 <class 'str'>
# BeautifulSoup的資料型態 <class 'bs4.BeautifulSoup'>
# Grab的資料型態 <class 'bytes'>
# PyQuery的資料型態 <class 'pyquery.pyquery.PyQuery'>


