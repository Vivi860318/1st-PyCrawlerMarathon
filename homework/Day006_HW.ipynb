import requests
headers = {"user-agent": "Mozilla/5.0 (Windows NT 10.0; Win64; x64) AppleWebKit/537.36 (KHTML, like Gecko) Chrome/78.0.3904.108 Safari/537.36"}
r = requests.get("https://www.zhihu.com/api/v4/questions/55493026/answers", headers = headers)
response = r.text

import json
data = json.loads(response)

#取出知乎問題發問時間
import time

timeStamp = data["data"][0]["question"]["created"]
localTime = time.localtime(timeStamp)
strTime = time.strftime("%Y-%m-%d %H:%M:%S", localTime)
print("發問時間", strTime)

#取出第一筆與最後一筆回答的時間
import time
timeStamp = []
for d in data["data"]:
    timeStamp.append(d["updated_time"])
#print(timeStamp)
maxtimeStamp = max(timeStamp)
mintimeStemp = min(timeStamp)
maxlocalTime = time.localtime(maxtimeStamp)
minlocalTime = time.localtime(mintimeStemp)
maxstrTime = time.strftime("%Y-%m-%d %H:%M:%S", maxlocalTime)
minstrTime = time.strftime("%Y-%m-%d %H:%M:%S", minlocalTime)
print("第一筆回答時間", minstrTime)
print("最後一筆回答時間", maxstrTime)


