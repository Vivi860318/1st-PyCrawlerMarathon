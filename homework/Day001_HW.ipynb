# 1.(簡答題)檔案 API 爬蟲 三種取得資料方式有甚麼不同?
#     檔案:資料會包裝成檔案提供下載,格式通常包含常用的標準格式
#     API:提供程式化連接的接口, 讓⼯工程師/分析師可以選擇資料中要讀取的特定部分，⽽而不需要把整批資料事先完整下載回
#     爬蟲:資料沒有以檔案或 API 提供，但出現在網⾴頁上。可以利利⽤用爬蟲爬蟲程式，將網⾴頁的資料解析所需的部分。


#2.(實作)
from urllib.request import urlretrieve
import os

try:
    os.makedirs("./Data", exist_ok=True)
    urlretrieve("https://www.w3.org/TR/PNG/iso_8859-1.txt", "./data/Homework.txt")
except:
    print("發生錯誤")

#檢查 data資料夾是否有 homework.txt檔名之檔案
files = os.listdir("./data")
if "Homework.txt" in files:
    print("[O] 檢查 Data 資料夾是否有 Homework.txt 檔名之檔案")
else:
    print("[X] 檢查 Data 資料夾是否有 Homework.txt 檔名之檔案")

#將"Hello World"字串覆寫到 Homework.txt檔案
f=""
with open("./Data/Homework.txt", "w") as fh:
    f = fh.write("Hello World")
try:
    with open("./Data/Homework.txt", "r") as fh:
        f = fh.read()
except EnvironmentError: #parent of IOError, OSError *and* WindowsError where available
    pass

#檢查 Homework.txt 檔案字數是否符合 Hello World 字數
if len("Hello World") ==len(f):
    print("[O] 檢查 Homework.txt 檔案字數是否符合 Hello World 字數")
else:
    print("[X] 檢查 Homework.txt 檔案字數是否符合 Hello World 字數")