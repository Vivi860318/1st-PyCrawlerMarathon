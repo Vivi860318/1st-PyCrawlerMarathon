# 利用開發者工具去尋找「 https://www.zhihu.com/explore 」和「 http://aicoin.cn 」網站的 HTTP 網址，以及他所帶的 Headers 分別是哪些，試著用 request 去發送有沒有帶 Headers 的差異。

# #1
# import requests
# url = 'https://www.zhihu.com/explore'
# r = requests.get(url)
# r.encoding = 'utf-8'
# print(r.text)

#2
import requests
url = 'http://www.zhihu.com'

headers = {
"authority": "www.zhihu.com",
"method": "GET",
"path": "/",
"scheme": "https",
"accept": "text/html,application/xhtml+xml,application/xml;q=0.9,image/webp,image/apng,*/*;q=0.8,application/signed-exchange;v=b3;q=0.9",
"accept-encoding": "gzip, deflate, br",
"accept-language": "zh-TW,zh;q=0.9,en-US;q=0.8,en;q=0.7,zh-CN;q=0.6,ja;q=0.5",
"cookie": "_zap=f8265822-753a-49c4-a3ef-8e621741b066",
"sec-fetch-mode": "navigate",
"sec-fetch-site": "none",
"upgrade-insecure-requests": "1",
"user-agent": "Mozilla/5.0 (Windows NT 10.0; Win64; x64) AppleWebKit/537.36 (KHTML, like Gecko) Chrome/79.0.3945.130 Safari/537.36"
}

r = requests.get(url, headers=headers)

r.encoding = 'utf-8'
print(r.text[0:600])