#1.(問答題)比較一下範例檔案中的「File I/O」與「CSV Reader」讀出來的內容有什麼差異
#   csv 以 list的形式表現
#2.(實作)
# 根據範例檔案的結果：
# 取出班次一的每一個時間
# 將班次一的每一個時間用一種資料型態保存
# 將班次一到五與其所有時間用一種資料型態個別保存

import csv
#開啟csv檔案
with open("./Data/example.csv", newline="", encoding="utf-8") as csvfile:
     #讀取csv檔案內容
    rows = csv.reader(csvfile)
    for row in rows:
        print(row)

#取出班次一的每一個時間       
with open("./Data/example.csv", newline="", encoding="utf-8") as csvfile:
    rows = csv.reader(csvfile)
    for row in rows:
        print(row[5])

#將班次一的每一個時間用一種資料型態保存
with open("./Data/example.csv", newline="", encoding="utf-8") as csvfile:
    rows = csv.reader(csvfile)
    bus = []
    for row in rows:
        bus.append(row[5])
    print(bus)

#將班次一到五與其所有時間用一種資料型態個別保存
with open("./Data/example.csv", newline="", encoding="utf-8") as csvfile:
    rows = csv.reader(csvfile)
    bus_time = dict()
    bus1 = []
    bus2 = []
    bus3 = []
    bus4 = []
    bus5 = []
    for row in rows:
        bus1.append(row[5])
        bus2.append(row[6])
        bus3.append(row[7])
        bus4.append(row[8])
        bus5.append(row[9])
    bus_time["班次一"] = bus1
    bus_time["班次二"] = bus2
    bus_time["班次三"] = bus3
    bus_time["班次四"] = bus4
    bus_time["班次五"] = bus5
    print(bus_time)
    