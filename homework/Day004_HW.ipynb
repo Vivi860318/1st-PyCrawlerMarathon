#1.(問答):比較一下範例檔案中的「r.text」與「json.loads(r.text)」讀出來的內容有什麼差異?
#都一樣是print字典的型態但r.text是以html的形式排列, json以字典原本的樣子排
#2.自行尋找一個合適的 API 接口做練習，並且查看其回傳內容：

import requests
r = requests.get("https://cat-fact.herokuapp.com/facts")

import json
jr = json.loads(r.text)
print(jr)